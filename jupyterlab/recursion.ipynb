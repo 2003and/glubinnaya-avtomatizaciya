{
 "cells": [
  {
   "cell_type": "code",
   "execution_count": 1,
   "id": "5e3a6847-25a4-4f45-8b5f-195655d87d11",
   "metadata": {},
   "outputs": [],
   "source": [
    "tree = {\n",
    "    1:{\n",
    "        1:{\n",
    "            1: \"text\",\n",
    "            2: \"text\",\n",
    "            3: \"text\"\n",
    "        }\n",
    "    },\n",
    "    2:{\n",
    "        1:{\n",
    "            1:{\n",
    "                1:{\n",
    "                    1: \"folder\",\n",
    "                    2: \"folder\",\n",
    "                    3: \"target_folder\"\n",
    "                },\n",
    "                2: [1,2,3]\n",
    "            }\n",
    "        }\n",
    "    }\n",
    "}"
   ]
  },
  {
   "cell_type": "code",
   "execution_count": 2,
   "id": "f78889be-f075-4ad9-9370-8a40b89bf0f1",
   "metadata": {},
   "outputs": [
    {
     "data": {
      "text/plain": [
       "{1: {1: {1: 'text', 2: 'text', 3: 'text'}},\n",
       " 2: {1: {1: {1: {1: 'folder', 2: 'folder', 3: 'target_folder'},\n",
       "    2: [1, 2, 3]}}}}"
      ]
     },
     "execution_count": 2,
     "metadata": {},
     "output_type": "execute_result"
    }
   ],
   "source": [
    "tree"
   ]
  },
  {
   "cell_type": "code",
   "execution_count": 15,
   "id": "72a72a8e-3f89-4c52-8fef-3f66cfd692bc",
   "metadata": {},
   "outputs": [],
   "source": [
    "def rec_func(dic, target_str):\n",
    "    for key,value in dic.items():\n",
    "        if isinstance(value, dict):\n",
    "            temp =rec_func(value, target_str) \n",
    "            if temp != None:\n",
    "                return temp\n",
    "        elif value == target_str:\n",
    "            return (key, value)"
   ]
  },
  {
   "cell_type": "code",
   "execution_count": 16,
   "id": "342cd003-4768-4281-9c06-bb504dad45e3",
   "metadata": {},
   "outputs": [
    {
     "name": "stdout",
     "output_type": "stream",
     "text": [
      "(3, 'target_folder')\n"
     ]
    }
   ],
   "source": [
    "print(rec_func(tree, \"target_folder\"))"
   ]
  },
  {
   "cell_type": "code",
   "execution_count": null,
   "id": "26e82aae-45fd-499b-bbd8-59c4c72c6536",
   "metadata": {},
   "outputs": [],
   "source": [
    "a = 2\n",
    "type(a)\n",
    "assert type(a)==int"
   ]
  }
 ],
 "metadata": {
  "kernelspec": {
   "display_name": "Python 3 (ipykernel)",
   "language": "python",
   "name": "python3"
  },
  "language_info": {
   "codemirror_mode": {
    "name": "ipython",
    "version": 3
   },
   "file_extension": ".py",
   "mimetype": "text/x-python",
   "name": "python",
   "nbconvert_exporter": "python",
   "pygments_lexer": "ipython3",
   "version": "3.10.12"
  }
 },
 "nbformat": 4,
 "nbformat_minor": 5
}
