{
 "cells": [
  {
   "cell_type": "code",
   "execution_count": 1,
   "id": "bedf8b92-9872-4a86-9be9-223f7975fdf3",
   "metadata": {},
   "outputs": [],
   "source": [
    "class MixinFlyable:\n",
    "    def fly(self):\n",
    "        print(\"I fly\")\n",
    "\n",
    "class MixinWalkable:\n",
    "    def walk(self):\n",
    "        print(\"I walk\")\n",
    "\n",
    "class MixinSwimable:\n",
    "    def swim(self):\n",
    "        print (\"I swim\")\n",
    "\n",
    "class MixinTalkable:\n",
    "    def make_noise(self):\n",
    "        print (\"tweet\")"
   ]
  },
  {
   "cell_type": "code",
   "execution_count": 2,
   "id": "a26be89a-e692-4c8b-964f-635fdf76b840",
   "metadata": {},
   "outputs": [],
   "source": [
    "class BaseBird:\n",
    "    wings_length_cm: float = 12.5\n",
    "    legs_length_cm: float = 3.5\n",
    "    colour: str = 'red'\n",
    "    \n",
    "    def __init__(\n",
    "        self,\n",
    "        wings_length_cm: float = 12.5,\n",
    "        legs_length_cm: float = 3.5,\n",
    "        colour: str = 'red'\n",
    "    ):\n",
    "        self.wings_length: float = wings_length_cm\n",
    "        self.legs_length: float = legs_length_cm\n",
    "        self.colour: str = colour\n",
    "        print('BaseBird Initialized')\n",
    "        \n",
    "class Bird(\n",
    "    BaseBird,\n",
    "    MixinFlyable,\n",
    "    MixinWalkable,\n",
    "    MixinSwimable,\n",
    "    MixinTalkable\n",
    "):\n",
    "    pass\n",
    "\n",
    "class RubberToy:\n",
    "    toxic: bool = False\n",
    "    size_cm3: float = 12\n",
    "    colour: str = 'yellow'\n",
    "    \n",
    "    def __init__( \n",
    "        self,\n",
    "        toxic: bool = False,\n",
    "        size_cm3: float = 12,\n",
    "        colour: str = 'yellow'\n",
    "    ):\n",
    "        self.toxic: bool  = toxic\n",
    "        self.size_cm3: float = size_cm3\n",
    "        self.colour: str = colour\n",
    "        print('RubberToy Initialized')\n",
    "\n",
    "    def bounce(self):\n",
    "        print('plums')\n",
    "        \n",
    "    def deform(self):\n",
    "        print('morphing time')\n",
    "        \n",
    "    def make_noise(self):\n",
    "        print('peep')"
   ]
  },
  {
   "cell_type": "code",
   "execution_count": 3,
   "id": "d8e02886-a0c4-48cd-8e94-15049640dcb9",
   "metadata": {},
   "outputs": [
    {
     "ename": "NameError",
     "evalue": "name 'RubberBird' is not defined",
     "output_type": "error",
     "traceback": [
      "\u001b[0;31m---------------------------------------------------------------------------\u001b[0m",
      "\u001b[0;31mNameError\u001b[0m                                 Traceback (most recent call last)",
      "\u001b[0;32m/tmp/ipykernel_68226/2784809944.py\u001b[0m in \u001b[0;36m<module>\u001b[0;34m\u001b[0m\n\u001b[0;32m----> 1\u001b[0;31m \u001b[0mrubber_ducky\u001b[0m \u001b[0;34m=\u001b[0m \u001b[0mRubberBird\u001b[0m\u001b[0;34m(\u001b[0m\u001b[0mcolor\u001b[0m\u001b[0;34m=\u001b[0m\u001b[0;34m\"yellow\"\u001b[0m\u001b[0;34m)\u001b[0m\u001b[0;34m\u001b[0m\u001b[0;34m\u001b[0m\u001b[0m\n\u001b[0m\u001b[1;32m      2\u001b[0m \u001b[0mrubber_ducky\u001b[0m\u001b[0;34m.\u001b[0m\u001b[0mmake_noise\u001b[0m\u001b[0;34m(\u001b[0m\u001b[0;34m)\u001b[0m\u001b[0;34m\u001b[0m\u001b[0;34m\u001b[0m\u001b[0m\n",
      "\u001b[0;31mNameError\u001b[0m: name 'RubberBird' is not defined"
     ]
    }
   ],
   "source": [
    "rubber_ducky = RubberBird(color=\"yellow\")\n",
    "rubber_ducky.make_noise()"
   ]
  },
  {
   "cell_type": "code",
   "execution_count": null,
   "id": "6d0dbe1e-9115-4fee-bc48-48ffd5d2bd39",
   "metadata": {},
   "outputs": [],
   "source": []
  },
  {
   "cell_type": "code",
   "execution_count": null,
   "id": "c79fd2d5-897b-4108-bf93-159411c62400",
   "metadata": {},
   "outputs": [],
   "source": []
  }
 ],
 "metadata": {
  "kernelspec": {
   "display_name": "Python 3 (ipykernel)",
   "language": "python",
   "name": "python3"
  },
  "language_info": {
   "codemirror_mode": {
    "name": "ipython",
    "version": 3
   },
   "file_extension": ".py",
   "mimetype": "text/x-python",
   "name": "python",
   "nbconvert_exporter": "python",
   "pygments_lexer": "ipython3",
   "version": "3.10.12"
  }
 },
 "nbformat": 4,
 "nbformat_minor": 5
}
