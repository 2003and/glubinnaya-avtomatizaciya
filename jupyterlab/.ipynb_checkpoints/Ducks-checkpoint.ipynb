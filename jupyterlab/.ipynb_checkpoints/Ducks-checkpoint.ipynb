{
 "cells": [
  {
   "cell_type": "code",
   "execution_count": 13,
   "id": "bedf8b92-9872-4a86-9be9-223f7975fdf3",
   "metadata": {},
   "outputs": [],
   "source": [
    "class MixinFlyable:\n",
    "    def fly(self):\n",
    "        print(\"I fly\")\n",
    "\n",
    "class MixinWalkable:\n",
    "    def walk(self):\n",
    "        print(\"I walk\")\n",
    "\n",
    "class MixinSwimable:\n",
    "    def swim(self):\n",
    "        print (\"I swim\")\n",
    "\n",
    "class MixinTalkable:\n",
    "    def make_noise(self):\n",
    "        print (\"tweet\")"
   ]
  },
  {
   "cell_type": "code",
   "execution_count": 14,
   "id": "a26be89a-e692-4c8b-964f-635fdf76b840",
   "metadata": {},
   "outputs": [
    {
     "ename": "NameError",
     "evalue": "name 'MixinWalkable' is not defined",
     "output_type": "error",
     "traceback": [
      "\u001b[0;31m---------------------------------------------------------------------------\u001b[0m",
      "\u001b[0;31mNameError\u001b[0m                                 Traceback (most recent call last)",
      "\u001b[0;32m/tmp/ipykernel_47726/1793352989.py\u001b[0m in \u001b[0;36m<module>\u001b[0;34m\u001b[0m\n\u001b[1;32m     18\u001b[0m     \u001b[0mBaseBird\u001b[0m\u001b[0;34m,\u001b[0m\u001b[0;34m\u001b[0m\u001b[0;34m\u001b[0m\u001b[0m\n\u001b[1;32m     19\u001b[0m     \u001b[0mMixinFlyable\u001b[0m\u001b[0;34m,\u001b[0m\u001b[0;34m\u001b[0m\u001b[0;34m\u001b[0m\u001b[0m\n\u001b[0;32m---> 20\u001b[0;31m     \u001b[0mMixinWalkable\u001b[0m\u001b[0;34m,\u001b[0m\u001b[0;34m\u001b[0m\u001b[0;34m\u001b[0m\u001b[0m\n\u001b[0m\u001b[1;32m     21\u001b[0m     \u001b[0mMixinSwimable\u001b[0m\u001b[0;34m,\u001b[0m\u001b[0;34m\u001b[0m\u001b[0;34m\u001b[0m\u001b[0m\n\u001b[1;32m     22\u001b[0m     \u001b[0mMixinTalkable\u001b[0m\u001b[0;34m\u001b[0m\u001b[0;34m\u001b[0m\u001b[0m\n",
      "\u001b[0;31mNameError\u001b[0m: name 'MixinWalkable' is not defined"
     ]
    }
   ],
   "source": [
    "class BaseBird:\n",
    "    wings_length_cm: float = 12.5\n",
    "    legs_length_cm: float = 3.5\n",
    "    colour: str = 'red'\n",
    "    \n",
    "    def __init__(\n",
    "        self,\n",
    "        wings_length_cm: float = 12.5,\n",
    "        legs_length_cm: float = 3.5,\n",
    "        colour: str = 'red'\n",
    "    ):\n",
    "        self.wings_length: float = wings_length_cm\n",
    "        self.legs_length: float = legs_length_cm\n",
    "        self.colour: str = colour\n",
    "        print('BaseBird Initialized')\n",
    "        \n",
    "class Bird(\n",
    "    BaseBird,\n",
    "    MixinFlyable,\n",
    "    MixinWalkable,\n",
    "    MixinSwimable,\n",
    "    MixinTalkable\n",
    "):\n",
    "    pass\n",
    "\n",
    "class RubberToy:\n",
    "    toxic: bool = False\n",
    "    size_cm3: float = 12\n",
    "    colour: str = 'yellow'\n",
    "    \n",
    "    def __init__( \n",
    "        self,\n",
    "        toxic: bool = False,\n",
    "        size_cm3: float = 12,\n",
    "        colour: str = 'yellow'\n",
    "    ):\n",
    "        self.toxic: bool  = toxic\n",
    "        self.size_cm3: float = size_cm3\n",
    "        self.colour: str = colour\n",
    "        print('RubberToy Initialized')\n",
    "\n",
    "    def bounce(self):\n",
    "        print('plums')\n",
    "        \n",
    "    def deform(self):\n",
    "        print('morphing time')\n",
    "        \n",
    "    def make_noise(self):\n",
    "        print('peep')"
   ]
  },
  {
   "cell_type": "code",
   "execution_count": 9,
   "id": "d8e02886-a0c4-48cd-8e94-15049640dcb9",
   "metadata": {},
   "outputs": [
    {
     "name": "stdout",
     "output_type": "stream",
     "text": [
      "Bird initialized\n",
      "Chirp!\n"
     ]
    }
   ],
   "source": [
    "rubber_ducky = RubberBird(color=\"yellow\")\n",
    "rubber_ducky.make_noise()"
   ]
  },
  {
   "cell_type": "code",
   "execution_count": null,
   "id": "6d0dbe1e-9115-4fee-bc48-48ffd5d2bd39",
   "metadata": {},
   "outputs": [],
   "source": []
  }
 ],
 "metadata": {
  "kernelspec": {
   "display_name": "Python 3 (ipykernel)",
   "language": "python",
   "name": "python3"
  },
  "language_info": {
   "codemirror_mode": {
    "name": "ipython",
    "version": 3
   },
   "file_extension": ".py",
   "mimetype": "text/x-python",
   "name": "python",
   "nbconvert_exporter": "python",
   "pygments_lexer": "ipython3",
   "version": "3.10.12"
  }
 },
 "nbformat": 4,
 "nbformat_minor": 5
}
