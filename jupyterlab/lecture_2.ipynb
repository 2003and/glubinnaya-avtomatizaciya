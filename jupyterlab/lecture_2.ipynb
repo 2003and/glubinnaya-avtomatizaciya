{
 "cells": [
  {
   "cell_type": "code",
   "execution_count": 1,
   "id": "58f1aadf-27d0-4e38-b8b2-b3a4b6c0cc29",
   "metadata": {},
   "outputs": [],
   "source": [
    "class Human:\n",
    "    def __init__(self, weight=80, height=170, name=None, speed=100):\n",
    "        self.weight = weight\n",
    "        self.height = height\n",
    "        self.name = name\n",
    "        self.speed = speed\n",
    "        \n",
    "    def walk(self):\n",
    "        print(\"I walk\")\n",
    "    \n",
    "    def run(self):\n",
    "        if self.weight <= 110:\n",
    "            print(\"I run\")\n",
    "        else:\n",
    "            print(\"I'm a discord moderator\")\n",
    "\n",
    "    def breathe(self):\n",
    "        print(\"I breathe\")"
   ]
  },
  {
   "cell_type": "code",
   "execution_count": 2,
   "id": "ad211d7f-da04-4739-802a-0d1c03e8da67",
   "metadata": {},
   "outputs": [],
   "source": [
    "vova = Human()"
   ]
  },
  {
   "cell_type": "code",
   "execution_count": 8,
   "id": "229ab1a6-c901-462e-91f6-1fa73e4213fe",
   "metadata": {},
   "outputs": [
    {
     "name": "stdout",
     "output_type": "stream",
     "text": [
      "I walk\n",
      "I run\n",
      "80\n"
     ]
    }
   ],
   "source": [
    "vova.walk()\n",
    "vova.run()\n",
    "print(vova.weight)"
   ]
  },
  {
   "cell_type": "code",
   "execution_count": 4,
   "id": "cfc7aaac-5db3-449f-97e8-d62218c1bc15",
   "metadata": {},
   "outputs": [
    {
     "data": {
      "text/plain": [
       "'<__main__.Human object at 0x7efe4c69a6b0>'"
      ]
     },
     "execution_count": 4,
     "metadata": {},
     "output_type": "execute_result"
    }
   ],
   "source": [
    "vova2 = Human(\n",
    "    weight = 110,\n",
    "    height = 150,\n",
    "    name=\"Vova\")"
   ]
  },
  {
   "cell_type": "code",
   "execution_count": 5,
   "id": "9a28175b-d8a8-42f0-937a-d58274982341",
   "metadata": {},
   "outputs": [
    {
     "name": "stdout",
     "output_type": "stream",
     "text": [
      "80\n",
      "110\n"
     ]
    }
   ],
   "source": [
    "print(vova.weight)\n",
    "print(vova2.weight)"
   ]
  },
  {
   "cell_type": "code",
   "execution_count": 6,
   "id": "8ce5b094-1285-4795-91f1-509cc6fda4cb",
   "metadata": {},
   "outputs": [],
   "source": [
    "class Worker(Human):\n",
    "    def work(self):\n",
    "        print(\"I work\")\n",
    "\n",
    "    def run(self):\n",
    "        print(\"It is prohibited to run in the store\")"
   ]
  },
  {
   "cell_type": "code",
   "execution_count": 9,
   "id": "58d76b8c-7d0a-4649-9222-ed3bd9477a68",
   "metadata": {},
   "outputs": [
    {
     "name": "stdout",
     "output_type": "stream",
     "text": [
      "It is prohibited to run in the store\n"
     ]
    }
   ],
   "source": [
    "vova_worker = Worker()\n",
    "vova_worker.run()"
   ]
  },
  {
   "cell_type": "code",
   "execution_count": null,
   "id": "bc82ffb5-5d7e-458c-bc5c-eaca3f3c17a9",
   "metadata": {},
   "outputs": [],
   "source": []
  }
 ],
 "metadata": {
  "kernelspec": {
   "display_name": "Python 3 (ipykernel)",
   "language": "python",
   "name": "python3"
  },
  "language_info": {
   "codemirror_mode": {
    "name": "ipython",
    "version": 3
   },
   "file_extension": ".py",
   "mimetype": "text/x-python",
   "name": "python",
   "nbconvert_exporter": "python",
   "pygments_lexer": "ipython3",
   "version": "3.10.12"
  }
 },
 "nbformat": 4,
 "nbformat_minor": 5
}
