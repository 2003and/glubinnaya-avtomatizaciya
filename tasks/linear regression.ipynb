{
 "cells": [
  {
   "cell_type": "code",
   "execution_count": 3,
   "metadata": {},
   "outputs": [
    {
     "name": "stdout",
     "output_type": "stream",
     "text": [
      "Note: you may need to restart the kernel to use updated packages.\n"
     ]
    }
   ],
   "source": [
    "%pip install -q scikit-learn\n",
    "from sklearn.preprocessing import MinMaxScaler\n"
   ]
  },
  {
   "cell_type": "code",
   "execution_count": 10,
   "metadata": {},
   "outputs": [
    {
     "name": "stdout",
     "output_type": "stream",
     "text": [
      "[[1.         0.        ]\n",
      " [0.28571429 0.6       ]\n",
      " [0.         1.        ]\n",
      " [0.85714286 0.2       ]]\n"
     ]
    }
   ],
   "source": [
    "\n",
    "def normalize_data(data):\n",
    "    # Создание экземпляра класса MinMaxScaler\n",
    "    scaler = MinMaxScaler()\n",
    "    \n",
    "    # Применение нормализации к данным\n",
    "    normalized_data = scaler.fit_transform(data, [-1, 0, 1])\n",
    "    \n",
    "    return normalized_data\n",
    "data = [[10, 2],\n",
    "        [5, 8],\n",
    "        [3, 12],\n",
    "        [9, 4]]\n",
    "\n",
    "normalized_data = normalize_data(data)\n",
    "print(normalized_data)\n"
   ]
  },
  {
   "cell_type": "code",
   "execution_count": null,
   "metadata": {},
   "outputs": [],
   "source": []
  }
 ],
 "metadata": {
  "kernelspec": {
   "display_name": "Python 3",
   "language": "python",
   "name": "python3"
  },
  "language_info": {
   "name": "python",
   "version": "3.10.12"
  },
  "orig_nbformat": 4
 },
 "nbformat": 4,
 "nbformat_minor": 2
}
