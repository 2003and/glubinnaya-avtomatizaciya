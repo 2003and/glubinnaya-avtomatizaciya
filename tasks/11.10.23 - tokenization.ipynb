{
 "cells": [
  {
   "cell_type": "code",
   "execution_count": 2,
   "metadata": {},
   "outputs": [
    {
     "name": "stdout",
     "output_type": "stream",
     "text": [
      "Note: you may need to restart the kernel to use updated packages.\n"
     ]
    }
   ],
   "source": [
    "%pip install -q nltk spacy\n",
    "import nltk\n",
    "import spacy"
   ]
  },
  {
   "cell_type": "code",
   "execution_count": 3,
   "metadata": {},
   "outputs": [
    {
     "data": {
      "text/plain": [
       "'\"I doubt it; I sincerely and utterly doubt it.\" Mr. Croup ran a hand through his lank\\n\\norange hair. \"No, my fine friend, I was thinking metaphorically—more along the lines\\n\\nof the birds they take down mines.\" Mr. Vandemar nodded, comprehension dawning\\n\\nslowly: yes, a canary. Mr. Ross had no other resemblance to a canary. He was huge—\\n\\nalmost as big as Mr. Vandemar—and extremely grubby, and quite hairless, and he said\\n\\nvery little, although he had made a point of telling each of them that he liked to kill\\n\\nthings, and he was good at it; and this amused Mr. Croup and Mr. Vandemar. But he\\n\\nwas a canary, and he never knew it. So Mr. Ross went first, in his filthy T-shirt and his\\n\\ncrusted blue-jeans, and Croup and Vandemar walked behind him, in their elegant black\\n\\nsuits.\\n\\nThere are four simple ways for the observant to tell Mr. Croup and Mr. Vandemar\\n\\napart: first, Mr. Vandemar is two and a half heads taller than Mr. Croup; second, Mr.\\n\\nCroup has eyes of a faded china blue, while Mr. Vandemar\\'s eyes are brown; third,\\n\\nwhile Mr. Vandemar fashioned the rings he wears on his right hand out of the skulls of\\n\\nfour ravens, Mr. Croup has no obvious jewelery; fourth, Mr. Croup likes words, while\\n\\nMr. Vandemar is always hungry. Also, they look nothing at all alike.\\n\\n'"
      ]
     },
     "execution_count": 3,
     "metadata": {},
     "output_type": "execute_result"
    }
   ],
   "source": [
    "# Fetching the text fragment from a file\n",
    "text_raw = open(\"Neverwhere fragment\", \"r\").readlines()\n",
    "text = \"\"\n",
    "for t in text_raw:\n",
    "    text += t+\"\\n\"\n",
    "\n",
    "text"
   ]
  },
  {
   "cell_type": "code",
   "execution_count": 7,
   "metadata": {},
   "outputs": [
    {
     "data": {
      "text/plain": [
       "['BlanklineTokenizer',\n",
       " 'LegalitySyllableTokenizer',\n",
       " 'LineTokenizer',\n",
       " 'MWETokenizer',\n",
       " 'NLTKWordTokenizer',\n",
       " 'PunktSentenceTokenizer',\n",
       " 'RegexpTokenizer',\n",
       " 'ReppTokenizer',\n",
       " 'SExprTokenizer',\n",
       " 'SpaceTokenizer',\n",
       " 'StanfordSegmenter',\n",
       " 'SyllableTokenizer',\n",
       " 'TabTokenizer',\n",
       " 'TextTilingTokenizer',\n",
       " 'ToktokTokenizer',\n",
       " 'TreebankWordDetokenizer',\n",
       " 'TreebankWordTokenizer',\n",
       " 'TweetTokenizer',\n",
       " 'WhitespaceTokenizer',\n",
       " 'WordPunctTokenizer']"
      ]
     },
     "execution_count": 7,
     "metadata": {},
     "output_type": "execute_result"
    }
   ],
   "source": [
    "# Checking which tokenizers even exist\n",
    "dir(nltk.tokenize)[:20]"
   ]
  },
  {
   "cell_type": "code",
   "execution_count": 5,
   "metadata": {},
   "outputs": [],
   "source": [
    "# Tokenizing using all the tokenizers we learned so far\n",
    "tokenized_wordpunct = nltk.tokenize.WordPunctTokenizer().tokenize(text)\n",
    "tokenized_space = nltk.tokenize.SpaceTokenizer().tokenize(text)\n",
    "tokenized_mwe = nltk.tokenize.MWETokenizer().tokenize(text)\n",
    "tokenized_toktok = nltk.tokenize.ToktokTokenizer().tokenize(text)\n",
    "tokenized_treebankword = nltk.tokenize.TreebankWordTokenizer().tokenize(text)\n",
    "tokenized_nltkword = nltk.tokenize.NLTKWordTokenizer().tokenize(text)"
   ]
  },
  {
   "cell_type": "code",
   "execution_count": 9,
   "metadata": {},
   "outputs": [],
   "source": [
    "# Tokenizing using \"new\" tokenizers\n",
    "\n",
    "tokenized_tweet = nltk.tokenize.TweetTokenizer().tokenize(text)\n",
    "tokenized_regexp = nltk.tokenize.RegexpTokenizer(\"[ ,.;]\").tokenize(text)"
   ]
  },
  {
   "cell_type": "code",
   "execution_count": 10,
   "metadata": {},
   "outputs": [],
   "source": [
    "# grouping all the tokenizers\n",
    "tokenized_all = [tokenized_wordpunct, tokenized_space, tokenized_mwe, tokenized_toktok, tokenized_treebankword, tokenized_nltkword]\n",
    "tokenizers_names = [\"WordPunct\", \"Space\", \"MWE\", \"TokTok\", \"TreeBankWord\", \"NLTKWord\"]\n",
    "tokenized_all_new = [tokenized_tweet, tokenized_regexp]\n",
    "tokenizers_names_new = [\"Tweet\", \"RegExp\"]"
   ]
  },
  {
   "cell_type": "code",
   "execution_count": null,
   "metadata": {},
   "outputs": [
    {
     "name": "stdout",
     "output_type": "stream",
     "text": [
      "WordPunct:\n",
      "['\"', 'I', 'doubt', 'it', ';', 'I', 'sincerely', 'and', 'utterly', 'doubt', 'it', '.\"', 'Mr', '.', 'Croup', 'ran', 'a', 'hand', 'through', 'his', 'lank', 'orange', 'hair', '.', '\"', 'No', ',', 'my', 'fine', 'friend', ',', 'I', 'was', 'thinking', 'metaphorically', '—', 'more', 'along', 'the', 'lines', 'of', 'the', 'birds', 'they', 'take', 'down', 'mines', '.\"', 'Mr', '.', 'Vandemar', 'nodded', ',', 'comprehension', 'dawning', 'slowly', ':', 'yes', ',', 'a', 'canary', '.', 'Mr', '.', 'Ross', 'had', 'no', 'other', 'resemblance', 'to', 'a', 'canary', '.', 'He', 'was', 'huge', '—', 'almost', 'as', 'big', 'as', 'Mr', '.', 'Vandemar', '—', 'and', 'extremely', 'grubby', ',', 'and', 'quite', 'hairless', ',', 'and', 'he', 'said', 'very', 'little', ',', 'although', 'he', 'had', 'made', 'a', 'point', 'of', 'telling', 'each', 'of', 'them', 'that', 'he', 'liked', 'to', 'kill', 'things', ',', 'and', 'he', 'was', 'good', 'at', 'it', ';', 'and', 'this', 'amused', 'Mr', '.', 'Croup', 'and', 'Mr', '.', 'Vandemar', '.', 'But', 'he', 'was', 'a', 'canary', ',', 'and', 'he', 'never', 'knew', 'it', '.', 'So', 'Mr', '.', 'Ross', 'went', 'first', ',', 'in', 'his', 'filthy', 'T', '-', 'shirt', 'and', 'his', 'crusted', 'blue', '-', 'jeans', ',', 'and', 'Croup', 'and', 'Vandemar', 'walked', 'behind', 'him', ',', 'in', 'their', 'elegant', 'black', 'suits', '.', 'There', 'are', 'four', 'simple', 'ways', 'for', 'the', 'observant', 'to', 'tell', 'Mr', '.', 'Croup', 'and', 'Mr', '.', 'Vandemar', 'apart', ':', 'first', ',', 'Mr', '.', 'Vandemar', 'is', 'two', 'and', 'a', 'half', 'heads', 'taller', 'than', 'Mr', '.', 'Croup', ';', 'second', ',', 'Mr', '.', 'Croup', 'has', 'eyes', 'of', 'a', 'faded', 'china', 'blue', ',', 'while', 'Mr', '.', 'Vandemar', \"'\", 's', 'eyes', 'are', 'brown', ';', 'third', ',', 'while', 'Mr', '.', 'Vandemar', 'fashioned', 'the', 'rings', 'he', 'wears', 'on', 'his', 'right', 'hand', 'out', 'of', 'the', 'skulls', 'of', 'four', 'ravens', ',', 'Mr', '.', 'Croup', 'has', 'no', 'obvious', 'jewelery', ';', 'fourth', ',', 'Mr', '.', 'Croup', 'likes', 'words', ',', 'while', 'Mr', '.', 'Vandemar', 'is', 'always', 'hungry', '.', 'Also', ',', 'they', 'look', 'nothing', 'at', 'all', 'alike', '.'] \n",
      "\n",
      "\n",
      "Space:\n",
      "['\"I', 'doubt', 'it;', 'I', 'sincerely', 'and', 'utterly', 'doubt', 'it.\"', 'Mr.', 'Croup', 'ran', 'a', 'hand', 'through', 'his', 'lank\\n\\norange', 'hair.', '\"No,', 'my', 'fine', 'friend,', 'I', 'was', 'thinking', 'metaphorically—more', 'along', 'the', 'lines\\n\\nof', 'the', 'birds', 'they', 'take', 'down', 'mines.\"', 'Mr.', 'Vandemar', 'nodded,', 'comprehension', 'dawning\\n\\nslowly:', 'yes,', 'a', 'canary.', 'Mr.', 'Ross', 'had', 'no', 'other', 'resemblance', 'to', 'a', 'canary.', 'He', 'was', 'huge—\\n\\nalmost', 'as', 'big', 'as', 'Mr.', 'Vandemar—and', 'extremely', 'grubby,', 'and', 'quite', 'hairless,', 'and', 'he', 'said\\n\\nvery', 'little,', 'although', 'he', 'had', 'made', 'a', 'point', 'of', 'telling', 'each', 'of', 'them', 'that', 'he', 'liked', 'to', 'kill\\n\\nthings,', 'and', 'he', 'was', 'good', 'at', 'it;', 'and', 'this', 'amused', 'Mr.', 'Croup', 'and', 'Mr.', 'Vandemar.', 'But', 'he\\n\\nwas', 'a', 'canary,', 'and', 'he', 'never', 'knew', 'it.', 'So', 'Mr.', 'Ross', 'went', 'first,', 'in', 'his', 'filthy', 'T-shirt', 'and', 'his\\n\\ncrusted', 'blue-jeans,', 'and', 'Croup', 'and', 'Vandemar', 'walked', 'behind', 'him,', 'in', 'their', 'elegant', 'black\\n\\nsuits.\\n\\nThere', 'are', 'four', 'simple', 'ways', 'for', 'the', 'observant', 'to', 'tell', 'Mr.', 'Croup', 'and', 'Mr.', 'Vandemar\\n\\napart:', 'first,', 'Mr.', 'Vandemar', 'is', 'two', 'and', 'a', 'half', 'heads', 'taller', 'than', 'Mr.', 'Croup;', 'second,', 'Mr.\\n\\nCroup', 'has', 'eyes', 'of', 'a', 'faded', 'china', 'blue,', 'while', 'Mr.', \"Vandemar's\", 'eyes', 'are', 'brown;', 'third,\\n\\nwhile', 'Mr.', 'Vandemar', 'fashioned', 'the', 'rings', 'he', 'wears', 'on', 'his', 'right', 'hand', 'out', 'of', 'the', 'skulls', 'of\\n\\nfour', 'ravens,', 'Mr.', 'Croup', 'has', 'no', 'obvious', 'jewelery;', 'fourth,', 'Mr.', 'Croup', 'likes', 'words,', 'while\\n\\nMr.', 'Vandemar', 'is', 'always', 'hungry.', 'Also,', 'they', 'look', 'nothing', 'at', 'all', 'alike.\\n\\n'] \n",
      "\n",
      "\n",
      "MWE:\n",
      "['\"', 'I', ' ', 'd', 'o', 'u', 'b', 't', ' ', 'i', 't', ';', ' ', 'I', ' ', 's', 'i', 'n', 'c', 'e', 'r', 'e', 'l', 'y', ' ', 'a', 'n', 'd', ' ', 'u', 't', 't', 'e', 'r', 'l', 'y', ' ', 'd', 'o', 'u', 'b', 't', ' ', 'i', 't', '.', '\"', ' ', 'M', 'r', '.', ' ', 'C', 'r', 'o', 'u', 'p', ' ', 'r', 'a', 'n', ' ', 'a', ' ', 'h', 'a', 'n', 'd', ' ', 't', 'h', 'r', 'o', 'u', 'g', 'h', ' ', 'h', 'i', 's', ' ', 'l', 'a', 'n', 'k', '\\n', '\\n', 'o', 'r', 'a', 'n', 'g', 'e', ' ', 'h', 'a', 'i', 'r', '.', ' ', '\"', 'N', 'o', ',', ' ', 'm', 'y', ' ', 'f', 'i', 'n', 'e', ' ', 'f', 'r', 'i', 'e', 'n', 'd', ',', ' ', 'I', ' ', 'w', 'a', 's', ' ', 't', 'h', 'i', 'n', 'k', 'i', 'n', 'g', ' ', 'm', 'e', 't', 'a', 'p', 'h', 'o', 'r', 'i', 'c', 'a', 'l', 'l', 'y', '—', 'm', 'o', 'r', 'e', ' ', 'a', 'l', 'o', 'n', 'g', ' ', 't', 'h', 'e', ' ', 'l', 'i', 'n', 'e', 's', '\\n', '\\n', 'o', 'f', ' ', 't', 'h', 'e', ' ', 'b', 'i', 'r', 'd', 's', ' ', 't', 'h', 'e', 'y', ' ', 't', 'a', 'k', 'e', ' ', 'd', 'o', 'w', 'n', ' ', 'm', 'i', 'n', 'e', 's', '.', '\"', ' ', 'M', 'r', '.', ' ', 'V', 'a', 'n', 'd', 'e', 'm', 'a', 'r', ' ', 'n', 'o', 'd', 'd', 'e', 'd', ',', ' ', 'c', 'o', 'm', 'p', 'r', 'e', 'h', 'e', 'n', 's', 'i', 'o', 'n', ' ', 'd', 'a', 'w', 'n', 'i', 'n', 'g', '\\n', '\\n', 's', 'l', 'o', 'w', 'l', 'y', ':', ' ', 'y', 'e', 's', ',', ' ', 'a', ' ', 'c', 'a', 'n', 'a', 'r', 'y', '.', ' ', 'M', 'r', '.', ' ', 'R', 'o', 's', 's', ' ', 'h', 'a', 'd', ' ', 'n', 'o', ' ', 'o', 't', 'h', 'e', 'r', ' ', 'r', 'e', 's', 'e', 'm', 'b', 'l', 'a', 'n', 'c', 'e', ' ', 't', 'o', ' ', 'a', ' ', 'c', 'a', 'n', 'a', 'r', 'y', '.', ' ', 'H', 'e', ' ', 'w', 'a', 's', ' ', 'h', 'u', 'g', 'e', '—', '\\n', '\\n', 'a', 'l', 'm', 'o', 's', 't', ' ', 'a', 's', ' ', 'b', 'i', 'g', ' ', 'a', 's', ' ', 'M', 'r', '.', ' ', 'V', 'a', 'n', 'd', 'e', 'm', 'a', 'r', '—', 'a', 'n', 'd', ' ', 'e', 'x', 't', 'r', 'e', 'm', 'e', 'l', 'y', ' ', 'g', 'r', 'u', 'b', 'b', 'y', ',', ' ', 'a', 'n', 'd', ' ', 'q', 'u', 'i', 't', 'e', ' ', 'h', 'a', 'i', 'r', 'l', 'e', 's', 's', ',', ' ', 'a', 'n', 'd', ' ', 'h', 'e', ' ', 's', 'a', 'i', 'd', '\\n', '\\n', 'v', 'e', 'r', 'y', ' ', 'l', 'i', 't', 't', 'l', 'e', ',', ' ', 'a', 'l', 't', 'h', 'o', 'u', 'g', 'h', ' ', 'h', 'e', ' ', 'h', 'a', 'd', ' ', 'm', 'a', 'd', 'e', ' ', 'a', ' ', 'p', 'o', 'i', 'n', 't', ' ', 'o', 'f', ' ', 't', 'e', 'l', 'l', 'i', 'n', 'g', ' ', 'e', 'a', 'c', 'h', ' ', 'o', 'f', ' ', 't', 'h', 'e', 'm', ' ', 't', 'h', 'a', 't', ' ', 'h', 'e', ' ', 'l', 'i', 'k', 'e', 'd', ' ', 't', 'o', ' ', 'k', 'i', 'l', 'l', '\\n', '\\n', 't', 'h', 'i', 'n', 'g', 's', ',', ' ', 'a', 'n', 'd', ' ', 'h', 'e', ' ', 'w', 'a', 's', ' ', 'g', 'o', 'o', 'd', ' ', 'a', 't', ' ', 'i', 't', ';', ' ', 'a', 'n', 'd', ' ', 't', 'h', 'i', 's', ' ', 'a', 'm', 'u', 's', 'e', 'd', ' ', 'M', 'r', '.', ' ', 'C', 'r', 'o', 'u', 'p', ' ', 'a', 'n', 'd', ' ', 'M', 'r', '.', ' ', 'V', 'a', 'n', 'd', 'e', 'm', 'a', 'r', '.', ' ', 'B', 'u', 't', ' ', 'h', 'e', '\\n', '\\n', 'w', 'a', 's', ' ', 'a', ' ', 'c', 'a', 'n', 'a', 'r', 'y', ',', ' ', 'a', 'n', 'd', ' ', 'h', 'e', ' ', 'n', 'e', 'v', 'e', 'r', ' ', 'k', 'n', 'e', 'w', ' ', 'i', 't', '.', ' ', 'S', 'o', ' ', 'M', 'r', '.', ' ', 'R', 'o', 's', 's', ' ', 'w', 'e', 'n', 't', ' ', 'f', 'i', 'r', 's', 't', ',', ' ', 'i', 'n', ' ', 'h', 'i', 's', ' ', 'f', 'i', 'l', 't', 'h', 'y', ' ', 'T', '-', 's', 'h', 'i', 'r', 't', ' ', 'a', 'n', 'd', ' ', 'h', 'i', 's', '\\n', '\\n', 'c', 'r', 'u', 's', 't', 'e', 'd', ' ', 'b', 'l', 'u', 'e', '-', 'j', 'e', 'a', 'n', 's', ',', ' ', 'a', 'n', 'd', ' ', 'C', 'r', 'o', 'u', 'p', ' ', 'a', 'n', 'd', ' ', 'V', 'a', 'n', 'd', 'e', 'm', 'a', 'r', ' ', 'w', 'a', 'l', 'k', 'e', 'd', ' ', 'b', 'e', 'h', 'i', 'n', 'd', ' ', 'h', 'i', 'm', ',', ' ', 'i', 'n', ' ', 't', 'h', 'e', 'i', 'r', ' ', 'e', 'l', 'e', 'g', 'a', 'n', 't', ' ', 'b', 'l', 'a', 'c', 'k', '\\n', '\\n', 's', 'u', 'i', 't', 's', '.', '\\n', '\\n', 'T', 'h', 'e', 'r', 'e', ' ', 'a', 'r', 'e', ' ', 'f', 'o', 'u', 'r', ' ', 's', 'i', 'm', 'p', 'l', 'e', ' ', 'w', 'a', 'y', 's', ' ', 'f', 'o', 'r', ' ', 't', 'h', 'e', ' ', 'o', 'b', 's', 'e', 'r', 'v', 'a', 'n', 't', ' ', 't', 'o', ' ', 't', 'e', 'l', 'l', ' ', 'M', 'r', '.', ' ', 'C', 'r', 'o', 'u', 'p', ' ', 'a', 'n', 'd', ' ', 'M', 'r', '.', ' ', 'V', 'a', 'n', 'd', 'e', 'm', 'a', 'r', '\\n', '\\n', 'a', 'p', 'a', 'r', 't', ':', ' ', 'f', 'i', 'r', 's', 't', ',', ' ', 'M', 'r', '.', ' ', 'V', 'a', 'n', 'd', 'e', 'm', 'a', 'r', ' ', 'i', 's', ' ', 't', 'w', 'o', ' ', 'a', 'n', 'd', ' ', 'a', ' ', 'h', 'a', 'l', 'f', ' ', 'h', 'e', 'a', 'd', 's', ' ', 't', 'a', 'l', 'l', 'e', 'r', ' ', 't', 'h', 'a', 'n', ' ', 'M', 'r', '.', ' ', 'C', 'r', 'o', 'u', 'p', ';', ' ', 's', 'e', 'c', 'o', 'n', 'd', ',', ' ', 'M', 'r', '.', '\\n', '\\n', 'C', 'r', 'o', 'u', 'p', ' ', 'h', 'a', 's', ' ', 'e', 'y', 'e', 's', ' ', 'o', 'f', ' ', 'a', ' ', 'f', 'a', 'd', 'e', 'd', ' ', 'c', 'h', 'i', 'n', 'a', ' ', 'b', 'l', 'u', 'e', ',', ' ', 'w', 'h', 'i', 'l', 'e', ' ', 'M', 'r', '.', ' ', 'V', 'a', 'n', 'd', 'e', 'm', 'a', 'r', \"'\", 's', ' ', 'e', 'y', 'e', 's', ' ', 'a', 'r', 'e', ' ', 'b', 'r', 'o', 'w', 'n', ';', ' ', 't', 'h', 'i', 'r', 'd', ',', '\\n', '\\n', 'w', 'h', 'i', 'l', 'e', ' ', 'M', 'r', '.', ' ', 'V', 'a', 'n', 'd', 'e', 'm', 'a', 'r', ' ', 'f', 'a', 's', 'h', 'i', 'o', 'n', 'e', 'd', ' ', 't', 'h', 'e', ' ', 'r', 'i', 'n', 'g', 's', ' ', 'h', 'e', ' ', 'w', 'e', 'a', 'r', 's', ' ', 'o', 'n', ' ', 'h', 'i', 's', ' ', 'r', 'i', 'g', 'h', 't', ' ', 'h', 'a', 'n', 'd', ' ', 'o', 'u', 't', ' ', 'o', 'f', ' ', 't', 'h', 'e', ' ', 's', 'k', 'u', 'l', 'l', 's', ' ', 'o', 'f', '\\n', '\\n', 'f', 'o', 'u', 'r', ' ', 'r', 'a', 'v', 'e', 'n', 's', ',', ' ', 'M', 'r', '.', ' ', 'C', 'r', 'o', 'u', 'p', ' ', 'h', 'a', 's', ' ', 'n', 'o', ' ', 'o', 'b', 'v', 'i', 'o', 'u', 's', ' ', 'j', 'e', 'w', 'e', 'l', 'e', 'r', 'y', ';', ' ', 'f', 'o', 'u', 'r', 't', 'h', ',', ' ', 'M', 'r', '.', ' ', 'C', 'r', 'o', 'u', 'p', ' ', 'l', 'i', 'k', 'e', 's', ' ', 'w', 'o', 'r', 'd', 's', ',', ' ', 'w', 'h', 'i', 'l', 'e', '\\n', '\\n', 'M', 'r', '.', ' ', 'V', 'a', 'n', 'd', 'e', 'm', 'a', 'r', ' ', 'i', 's', ' ', 'a', 'l', 'w', 'a', 'y', 's', ' ', 'h', 'u', 'n', 'g', 'r', 'y', '.', ' ', 'A', 'l', 's', 'o', ',', ' ', 't', 'h', 'e', 'y', ' ', 'l', 'o', 'o', 'k', ' ', 'n', 'o', 't', 'h', 'i', 'n', 'g', ' ', 'a', 't', ' ', 'a', 'l', 'l', ' ', 'a', 'l', 'i', 'k', 'e', '.', '\\n', '\\n'] \n",
      "\n",
      "\n",
      "TokTok:\n",
      "['\"', 'I', 'doubt', 'it', ';', 'I', 'sincerely', 'and', 'utterly', 'doubt', 'it.', '\"', 'Mr.', 'Croup', 'ran', 'a', 'hand', 'through', 'his', 'lank', 'orange', 'hair.', '\"', 'No', ',', 'my', 'fine', 'friend', ',', 'I', 'was', 'thinking', 'metaphorically', '—', 'more', 'along', 'the', 'lines', 'of', 'the', 'birds', 'they', 'take', 'down', 'mines.', '\"', 'Mr.', 'Vandemar', 'nodded', ',', 'comprehension', 'dawning', 'slowly', ':', 'yes', ',', 'a', 'canary.', 'Mr.', 'Ross', 'had', 'no', 'other', 'resemblance', 'to', 'a', 'canary.', 'He', 'was', 'huge', '—', 'almost', 'as', 'big', 'as', 'Mr.', 'Vandemar', '—', 'and', 'extremely', 'grubby', ',', 'and', 'quite', 'hairless', ',', 'and', 'he', 'said', 'very', 'little', ',', 'although', 'he', 'had', 'made', 'a', 'point', 'of', 'telling', 'each', 'of', 'them', 'that', 'he', 'liked', 'to', 'kill', 'things', ',', 'and', 'he', 'was', 'good', 'at', 'it', ';', 'and', 'this', 'amused', 'Mr.', 'Croup', 'and', 'Mr.', 'Vandemar.', 'But', 'he', 'was', 'a', 'canary', ',', 'and', 'he', 'never', 'knew', 'it.', 'So', 'Mr.', 'Ross', 'went', 'first', ',', 'in', 'his', 'filthy', 'T-shirt', 'and', 'his', 'crusted', 'blue-jeans', ',', 'and', 'Croup', 'and', 'Vandemar', 'walked', 'behind', 'him', ',', 'in', 'their', 'elegant', 'black', 'suits.', 'There', 'are', 'four', 'simple', 'ways', 'for', 'the', 'observant', 'to', 'tell', 'Mr.', 'Croup', 'and', 'Mr.', 'Vandemar', 'apart', ':', 'first', ',', 'Mr.', 'Vandemar', 'is', 'two', 'and', 'a', 'half', 'heads', 'taller', 'than', 'Mr.', 'Croup', ';', 'second', ',', 'Mr.', 'Croup', 'has', 'eyes', 'of', 'a', 'faded', 'china', 'blue', ',', 'while', 'Mr.', 'Vandemar', \"'\", 's', 'eyes', 'are', 'brown', ';', 'third', ',', 'while', 'Mr.', 'Vandemar', 'fashioned', 'the', 'rings', 'he', 'wears', 'on', 'his', 'right', 'hand', 'out', 'of', 'the', 'skulls', 'of', 'four', 'ravens', ',', 'Mr.', 'Croup', 'has', 'no', 'obvious', 'jewelery', ';', 'fourth', ',', 'Mr.', 'Croup', 'likes', 'words', ',', 'while', 'Mr.', 'Vandemar', 'is', 'always', 'hungry.', 'Also', ',', 'they', 'look', 'nothing', 'at', 'all', 'alike.'] \n",
      "\n",
      "\n",
      "TreeBankWord:\n",
      "['``', 'I', 'doubt', 'it', ';', 'I', 'sincerely', 'and', 'utterly', 'doubt', 'it.', \"''\", 'Mr.', 'Croup', 'ran', 'a', 'hand', 'through', 'his', 'lank', 'orange', 'hair.', '``', 'No', ',', 'my', 'fine', 'friend', ',', 'I', 'was', 'thinking', 'metaphorically—more', 'along', 'the', 'lines', 'of', 'the', 'birds', 'they', 'take', 'down', 'mines.', \"''\", 'Mr.', 'Vandemar', 'nodded', ',', 'comprehension', 'dawning', 'slowly', ':', 'yes', ',', 'a', 'canary.', 'Mr.', 'Ross', 'had', 'no', 'other', 'resemblance', 'to', 'a', 'canary.', 'He', 'was', 'huge—', 'almost', 'as', 'big', 'as', 'Mr.', 'Vandemar—and', 'extremely', 'grubby', ',', 'and', 'quite', 'hairless', ',', 'and', 'he', 'said', 'very', 'little', ',', 'although', 'he', 'had', 'made', 'a', 'point', 'of', 'telling', 'each', 'of', 'them', 'that', 'he', 'liked', 'to', 'kill', 'things', ',', 'and', 'he', 'was', 'good', 'at', 'it', ';', 'and', 'this', 'amused', 'Mr.', 'Croup', 'and', 'Mr.', 'Vandemar.', 'But', 'he', 'was', 'a', 'canary', ',', 'and', 'he', 'never', 'knew', 'it.', 'So', 'Mr.', 'Ross', 'went', 'first', ',', 'in', 'his', 'filthy', 'T-shirt', 'and', 'his', 'crusted', 'blue-jeans', ',', 'and', 'Croup', 'and', 'Vandemar', 'walked', 'behind', 'him', ',', 'in', 'their', 'elegant', 'black', 'suits.', 'There', 'are', 'four', 'simple', 'ways', 'for', 'the', 'observant', 'to', 'tell', 'Mr.', 'Croup', 'and', 'Mr.', 'Vandemar', 'apart', ':', 'first', ',', 'Mr.', 'Vandemar', 'is', 'two', 'and', 'a', 'half', 'heads', 'taller', 'than', 'Mr.', 'Croup', ';', 'second', ',', 'Mr.', 'Croup', 'has', 'eyes', 'of', 'a', 'faded', 'china', 'blue', ',', 'while', 'Mr.', 'Vandemar', \"'s\", 'eyes', 'are', 'brown', ';', 'third', ',', 'while', 'Mr.', 'Vandemar', 'fashioned', 'the', 'rings', 'he', 'wears', 'on', 'his', 'right', 'hand', 'out', 'of', 'the', 'skulls', 'of', 'four', 'ravens', ',', 'Mr.', 'Croup', 'has', 'no', 'obvious', 'jewelery', ';', 'fourth', ',', 'Mr.', 'Croup', 'likes', 'words', ',', 'while', 'Mr.', 'Vandemar', 'is', 'always', 'hungry.', 'Also', ',', 'they', 'look', 'nothing', 'at', 'all', 'alike', '.'] \n",
      "\n",
      "\n",
      "NLTKWord:\n",
      "['``', 'I', 'doubt', 'it', ';', 'I', 'sincerely', 'and', 'utterly', 'doubt', 'it.', \"''\", 'Mr.', 'Croup', 'ran', 'a', 'hand', 'through', 'his', 'lank', 'orange', 'hair.', '``', 'No', ',', 'my', 'fine', 'friend', ',', 'I', 'was', 'thinking', 'metaphorically—more', 'along', 'the', 'lines', 'of', 'the', 'birds', 'they', 'take', 'down', 'mines.', \"''\", 'Mr.', 'Vandemar', 'nodded', ',', 'comprehension', 'dawning', 'slowly', ':', 'yes', ',', 'a', 'canary.', 'Mr.', 'Ross', 'had', 'no', 'other', 'resemblance', 'to', 'a', 'canary.', 'He', 'was', 'huge—', 'almost', 'as', 'big', 'as', 'Mr.', 'Vandemar—and', 'extremely', 'grubby', ',', 'and', 'quite', 'hairless', ',', 'and', 'he', 'said', 'very', 'little', ',', 'although', 'he', 'had', 'made', 'a', 'point', 'of', 'telling', 'each', 'of', 'them', 'that', 'he', 'liked', 'to', 'kill', 'things', ',', 'and', 'he', 'was', 'good', 'at', 'it', ';', 'and', 'this', 'amused', 'Mr.', 'Croup', 'and', 'Mr.', 'Vandemar.', 'But', 'he', 'was', 'a', 'canary', ',', 'and', 'he', 'never', 'knew', 'it.', 'So', 'Mr.', 'Ross', 'went', 'first', ',', 'in', 'his', 'filthy', 'T-shirt', 'and', 'his', 'crusted', 'blue-jeans', ',', 'and', 'Croup', 'and', 'Vandemar', 'walked', 'behind', 'him', ',', 'in', 'their', 'elegant', 'black', 'suits.', 'There', 'are', 'four', 'simple', 'ways', 'for', 'the', 'observant', 'to', 'tell', 'Mr.', 'Croup', 'and', 'Mr.', 'Vandemar', 'apart', ':', 'first', ',', 'Mr.', 'Vandemar', 'is', 'two', 'and', 'a', 'half', 'heads', 'taller', 'than', 'Mr.', 'Croup', ';', 'second', ',', 'Mr.', 'Croup', 'has', 'eyes', 'of', 'a', 'faded', 'china', 'blue', ',', 'while', 'Mr.', 'Vandemar', \"'s\", 'eyes', 'are', 'brown', ';', 'third', ',', 'while', 'Mr.', 'Vandemar', 'fashioned', 'the', 'rings', 'he', 'wears', 'on', 'his', 'right', 'hand', 'out', 'of', 'the', 'skulls', 'of', 'four', 'ravens', ',', 'Mr.', 'Croup', 'has', 'no', 'obvious', 'jewelery', ';', 'fourth', ',', 'Mr.', 'Croup', 'likes', 'words', ',', 'while', 'Mr.', 'Vandemar', 'is', 'always', 'hungry.', 'Also', ',', 'they', 'look', 'nothing', 'at', 'all', 'alike', '.'] \n",
      "\n",
      "\n",
      "Tweet:\n",
      "['\"', 'I', 'doubt', 'it', ';', 'I', 'sincerely', 'and', 'utterly', 'doubt', 'it', '.', '\"', 'Mr', '.', 'Croup', 'ran', 'a', 'hand', 'through', 'his', 'lank', 'orange', 'hair', '.', '\"', 'No', ',', 'my', 'fine', 'friend', ',', 'I', 'was', 'thinking', 'metaphorically', '—', 'more', 'along', 'the', 'lines', 'of', 'the', 'birds', 'they', 'take', 'down', 'mines', '.', '\"', 'Mr', '.', 'Vandemar', 'nodded', ',', 'comprehension', 'dawning', 'slowly', ':', 'yes', ',', 'a', 'canary', '.', 'Mr', '.', 'Ross', 'had', 'no', 'other', 'resemblance', 'to', 'a', 'canary', '.', 'He', 'was', 'huge', '—', 'almost', 'as', 'big', 'as', 'Mr', '.', 'Vandemar', '—', 'and', 'extremely', 'grubby', ',', 'and', 'quite', 'hairless', ',', 'and', 'he', 'said', 'very', 'little', ',', 'although', 'he', 'had', 'made', 'a', 'point', 'of', 'telling', 'each', 'of', 'them', 'that', 'he', 'liked', 'to', 'kill', 'things', ',', 'and', 'he', 'was', 'good', 'at', 'it', ';', 'and', 'this', 'amused', 'Mr', '.', 'Croup', 'and', 'Mr', '.', 'Vandemar', '.', 'But', 'he', 'was', 'a', 'canary', ',', 'and', 'he', 'never', 'knew', 'it', '.', 'So', 'Mr', '.', 'Ross', 'went', 'first', ',', 'in', 'his', 'filthy', 'T-shirt', 'and', 'his', 'crusted', 'blue-jeans', ',', 'and', 'Croup', 'and', 'Vandemar', 'walked', 'behind', 'him', ',', 'in', 'their', 'elegant', 'black', 'suits', '.', 'There', 'are', 'four', 'simple', 'ways', 'for', 'the', 'observant', 'to', 'tell', 'Mr', '.', 'Croup', 'and', 'Mr', '.', 'Vandemar', 'apart', ':', 'first', ',', 'Mr', '.', 'Vandemar', 'is', 'two', 'and', 'a', 'half', 'heads', 'taller', 'than', 'Mr', '.', 'Croup', ';', 'second', ',', 'Mr', '.', 'Croup', 'has', 'eyes', 'of', 'a', 'faded', 'china', 'blue', ',', 'while', 'Mr', '.', \"Vandemar's\", 'eyes', 'are', 'brown', ';', 'third', ',', 'while', 'Mr', '.', 'Vandemar', 'fashioned', 'the', 'rings', 'he', 'wears', 'on', 'his', 'right', 'hand', 'out', 'of', 'the', 'skulls', 'of', 'four', 'ravens', ',', 'Mr', '.', 'Croup', 'has', 'no', 'obvious', 'jewelery', ';', 'fourth', ',', 'Mr', '.', 'Croup', 'likes', 'words', ',', 'while', 'Mr', '.', 'Vandemar', 'is', 'always', 'hungry', '.', 'Also', ',', 'they', 'look', 'nothing', 'at', 'all', 'alike', '.'] \n",
      "\n",
      "\n",
      "RegExp:\n",
      "[] \n",
      "\n",
      "\n"
     ]
    }
   ],
   "source": [
    "# Printing everything out\n",
    "for i in range(len(tokenized_all)):\n",
    "    print(tokenizers_names[i]+\":\")\n",
    "    print(tokenized_all[i],\"\\n\\n\")\n",
    "\n",
    "for i in range(len(tokenized_all_new)):\n",
    "    print(tokenizers_names_new[i]+\":\")\n",
    "    print(tokenized_all_new[i],\"\\n\\n\")\n",
    "\n"
   ]
  },
  {
   "cell_type": "code",
   "execution_count": null,
   "metadata": {},
   "outputs": [
    {
     "data": {
      "text/plain": [
       "0.5534351145038168"
      ]
     },
     "execution_count": 46,
     "metadata": {},
     "output_type": "execute_result"
    }
   ],
   "source": [
    "# Calculating lexical diversity\n",
    "tokenized_nltk_unique = set(tokenized_nltkword)\n",
    "lexical_diversity = len(tokenized_nltk_unique) / \\\n",
    "                    len(tokenized_nltkword)\n",
    "lexical_diversity"
   ]
  },
  {
   "cell_type": "code",
   "execution_count": null,
   "metadata": {},
   "outputs": [
    {
     "data": {
      "text/plain": [
       "['CONTRACTIONS2',\n",
       " 'CONTRACTIONS3',\n",
       " 'CONVERT_PARENTHESES',\n",
       " 'DOUBLE_DASHES',\n",
       " 'ENDING_QUOTES',\n",
       " 'PARENS_BRACKETS',\n",
       " 'PUNCTUATION',\n",
       " 'STARTING_QUOTES',\n",
       " '__abstractmethods__',\n",
       " '__class__',\n",
       " '__delattr__',\n",
       " '__dict__',\n",
       " '__dir__',\n",
       " '__doc__',\n",
       " '__eq__',\n",
       " '__format__',\n",
       " '__ge__',\n",
       " '__getattribute__',\n",
       " '__gt__',\n",
       " '__hash__',\n",
       " '__init__',\n",
       " '__init_subclass__',\n",
       " '__le__',\n",
       " '__lt__',\n",
       " '__module__',\n",
       " '__ne__',\n",
       " '__new__',\n",
       " '__reduce__',\n",
       " '__reduce_ex__',\n",
       " '__repr__',\n",
       " '__setattr__',\n",
       " '__sizeof__',\n",
       " '__slots__',\n",
       " '__str__',\n",
       " '__subclasshook__',\n",
       " '__weakref__',\n",
       " '_abc_impl',\n",
       " '_contractions',\n",
       " 'span_tokenize',\n",
       " 'span_tokenize_sents',\n",
       " 'tokenize',\n",
       " 'tokenize_sents']"
      ]
     },
     "execution_count": 47,
     "metadata": {},
     "output_type": "execute_result"
    }
   ],
   "source": [
    "dir(nltk.tokenize.NLTKWordTokenizer)"
   ]
  },
  {
   "cell_type": "code",
   "execution_count": null,
   "metadata": {},
   "outputs": [],
   "source": [
    "class MySoopaTokenizer:\n",
    "    def __init__(self):\n",
    "        pass"
   ]
  }
 ],
 "metadata": {
  "kernelspec": {
   "display_name": "Python 3",
   "language": "python",
   "name": "python3"
  },
  "language_info": {
   "codemirror_mode": {
    "name": "ipython",
    "version": 3
   },
   "file_extension": ".py",
   "mimetype": "text/x-python",
   "name": "python",
   "nbconvert_exporter": "python",
   "pygments_lexer": "ipython3",
   "version": "3.10.12"
  },
  "orig_nbformat": 4
 },
 "nbformat": 4,
 "nbformat_minor": 2
}
