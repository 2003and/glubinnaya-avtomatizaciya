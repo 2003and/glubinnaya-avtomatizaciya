{
 "cells": [
  {
   "cell_type": "code",
   "execution_count": 2,
   "metadata": {},
   "outputs": [
    {
     "data": {
      "text/plain": [
       "'\\nGoal - make a Matrix class\\ngive it some magic methods like __add__, __mult__ and so on\\nmake a \"Transpose\" function\\n'"
      ]
     },
     "execution_count": 2,
     "metadata": {},
     "output_type": "execute_result"
    }
   ],
   "source": [
    "import numpy as np\n",
    "np.matrix # <-- refrence, I suppose\n",
    "\"\"\"\n",
    "Goal - make a Matrix class\n",
    "give it some magic methods - list later on\n",
    "make a \"Transpose\" function\n",
    "\n",
    "List of magic methods\n",
    "__new__(cls, other) \n",
    "__del__(self) \n",
    "__abs__(self)\n",
    "__add__(self, other) \tTo get called on add operation using + operator\n",
    "__sub__(self, other) \tTo get called on subtraction operation using - operator.\n",
    "__mul__(self, other) \tTo get called on multiplication operation using * operator.\n",
    "__floordiv__(self, other) \tTo get called on floor division operation using // operator.\n",
    "__truediv__(self, other) \tTo get called on division operation using / operator.\n",
    "__mod__(self, other) \tTo get called on modulo operation using % operator.\n",
    "__pow__(self, other[, modulo]) \tTo get called on calculating the power using ** operator.\n",
    "__lt__(self, other) \tTo get called on comparison using < operator.\n",
    "__le__(self, other) \tTo get called on comparison using <= operator.\n",
    "__eq__(self, other) \tTo get called on comparison using == operator.\n",
    "__ne__(self, other) \tTo get called on comparison using != operator.\n",
    "__ge__(self, other) \tTo get called on comparison using >= operator. \n",
    "\"\"\""
   ]
  },
  {
   "cell_type": "code",
   "execution_count": 21,
   "metadata": {},
   "outputs": [],
   "source": [
    "class Matrix:\n",
    "    def __init__(self, matrix:list[list] = [[1,1,1],[1,1,1],[1,1,1]]) -> None:\n",
    "        self.matrix = matrix\n",
    "    \n",
    "    def __new__(self):\n",
    "        pass\n",
    "    \n",
    "    \n",
    "    def __del__(self):\n",
    "        pass\n",
    "    \n",
    "    \n",
    "    def __abs__(self):\n",
    "        pass\n",
    "    \n",
    "\n",
    "    def __add__(self,other):\n",
    "        new_matrix = []\n",
    "        for row in zip(self.matrix, other.matrix):\n",
    "            new_matrix.append([])\n",
    "            print(row)\n",
    "            for i in range(len(row[0])):\n",
    "                new_matrix[-1].append(row[0][i]+row[1][i])\n",
    "        return Matrix(new_matrix)\n",
    "    \n",
    "    def __sub__(self, other):\n",
    "        pass\n",
    "    \n",
    "    \n",
    "    def __mul__(self, other):\n",
    "        pass\n",
    "    \n",
    "    \n",
    "    def __floordiv__(self, other):\n",
    "        pass\n",
    "    \n",
    "    \n",
    "    def __truediv__(self, other):\n",
    "        pass\n",
    "    \n",
    "    \n",
    "    def __mod__(self, other):\n",
    "        pass\n",
    "    \n",
    "    \n",
    "    def __pow__(self, other):\n",
    "        pass\n",
    "    \n",
    "    \n",
    "    def __lt__(self, other):\n",
    "        pass\n",
    "    \n",
    "    \n",
    "    def __le__(self, other):\n",
    "        pass\n",
    "    \n",
    "    \n",
    "    def __gt__(self, other):\n",
    "        pass\n",
    "    \n",
    "    \n",
    "    def __ge__(self, other):\n",
    "        pass\n",
    "    \n",
    "    \n",
    "    def __eq__(self, other):\n",
    "        pass\n",
    "    \n",
    "    def __ne__(self, other):\n",
    "        pass\n",
    "    \n",
    "    def get_matrix(self):\n",
    "        return self.matrix"
   ]
  },
  {
   "cell_type": "code",
   "execution_count": 22,
   "metadata": {},
   "outputs": [
    {
     "name": "stdout",
     "output_type": "stream",
     "text": [
      "([1, 1, 1], [1, 1, 1])\n",
      "2\n",
      "2\n",
      "2\n",
      "([1, 1, 1], [1, 1, 1])\n",
      "2\n",
      "2\n",
      "2\n",
      "([1, 1, 1], [1, 1, 1])\n",
      "2\n",
      "2\n",
      "2\n",
      "[[2, 2, 2], [2, 2, 2], [2, 2, 2]]\n"
     ]
    }
   ],
   "source": [
    "matrix1=Matrix()\n",
    "matrix2=Matrix()\n",
    "matrix3 = matrix1+matrix2\n",
    "print(matrix3.get_matrix())"
   ]
  },
  {
   "cell_type": "code",
   "execution_count": null,
   "metadata": {},
   "outputs": [],
   "source": []
  }
 ],
 "metadata": {
  "kernelspec": {
   "display_name": "Python 3",
   "language": "python",
   "name": "python3"
  },
  "language_info": {
   "codemirror_mode": {
    "name": "ipython",
    "version": 3
   },
   "file_extension": ".py",
   "mimetype": "text/x-python",
   "name": "python",
   "nbconvert_exporter": "python",
   "pygments_lexer": "ipython3",
   "version": "3.10.12"
  },
  "orig_nbformat": 4
 },
 "nbformat": 4,
 "nbformat_minor": 2
}
