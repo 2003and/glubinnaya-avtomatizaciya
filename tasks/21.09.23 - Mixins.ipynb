{
 "cells": [
  {
   "cell_type": "code",
   "execution_count": 3,
   "metadata": {},
   "outputs": [],
   "source": [
    "# Mixins\n",
    "class MixinNameable:\n",
    "    def __init__(self, name) -> None:\n",
    "        self.name = name\n",
    "\n",
    "class MixinWalkable:\n",
    "    def walk(self):\n",
    "        print(f\"{self.name} walked\")\n",
    "    def run(self):\n",
    "        print(f\"{self.name} ran\")\n",
    "\n",
    "class MixinSpeakable:\n",
    "    def speak(self, line):\n",
    "        print(f\"{self.name} said: {line}\")\n",
    "    def scream(self, line):\n",
    "        print(f\"{self.name} screamed: {line}\")\n",
    "\n",
    "class MixinPosable:\n",
    "    def change_pose(self):\n",
    "        print(f\"{self.name}'s pose was changed\")\n",
    "\n",
    "class MixinTouchable:\n",
    "    def touch(self, other):\n",
    "        print(f\"{self.name} was touched by {other.name}\")"
   ]
  },
  {
   "cell_type": "code",
   "execution_count": 4,
   "metadata": {},
   "outputs": [],
   "source": [
    "# Meta-mixins\n",
    "class Funko(MixinNameable, MixinPosable, MixinTouchable):\n",
    "    def __init__(self, name) -> None:\n",
    "        super().__init__(name)\n",
    "\n",
    "class Playable(MixinNameable, MixinWalkable, MixinPosable, MixinSpeakable):\n",
    "    def __init__(self, name) -> None:\n",
    "        super().__init__(name)"
   ]
  },
  {
   "cell_type": "code",
   "execution_count": 5,
   "metadata": {},
   "outputs": [],
   "source": [
    "# Character classes\n",
    "\n",
    "class Character:\n",
    "    def character_proof(self):\n",
    "        print(f\"{self.name} was inherited from a character!\")\n",
    "\n",
    "\n",
    "class Harry(Character):\n",
    "    def harry_proof(self):\n",
    "        print(f\"{self.name} was inherited from the Harry class!\")\n",
    "\n",
    "\n",
    "class Hagrid(Character):\n",
    "    def hagrid_proof(self):\n",
    "        print(f\"{self.name} was inherited from the Hagrid class!\")\n",
    "\n",
    "\n",
    "class Shrek(Character):\n",
    "    def ask_swamp(self):\n",
    "        print(\"what are you doing in my swamp\".upper())\n",
    "\n",
    "class Isaac(Character):\n",
    "    def skill_issue(self):\n",
    "        print(\"Just don't take damage lmao\")"
   ]
  },
  {
   "cell_type": "code",
   "execution_count": 6,
   "metadata": {},
   "outputs": [],
   "source": [
    "# Final classes\n",
    "class FunkoShrek(Shrek, Funko):\n",
    "    pass\n",
    "\n",
    "\n",
    "class PlayableShrek(Shrek, Playable):\n",
    "    pass\n",
    "\n",
    "\n",
    "class FunkoHagrid(Hagrid, Funko):\n",
    "    pass\n",
    "\n",
    "\n",
    "class PlayableHagrid(Hagrid, Playable):\n",
    "    pass\n",
    "\n",
    "\n",
    "class FunkoHarry(Harry, Funko):\n",
    "    pass\n",
    "\n",
    "\n",
    "class PlayableHarry(Harry, Playable):\n",
    "    pass\n",
    "\n"
   ]
  },
  {
   "cell_type": "code",
   "execution_count": 7,
   "metadata": {},
   "outputs": [
    {
     "name": "stdout",
     "output_type": "stream",
     "text": [
      "Shrek's pose was changed\n",
      "WHAT ARE YOU DOING IN MY SWAMP\n",
      "Harry was inherited from the Harry class!\n",
      "Harry said: Pisspectrum popatronum!!!!!!!!!!!!!!!!!!\n"
     ]
    }
   ],
   "source": [
    "# In-use\n",
    "\n",
    "# isaac = Playable(\"Isaac\")\n",
    "# stitch = Funko(\"Stitch\")\n",
    "\n",
    "# isaac.scream(\"YOOOO THERE'S A STITCH FUNKO POP IN THE TREASURE ROOM\")\n",
    "# stitch.touch(isaac)\n",
    "# isaac.speak(\"Feels nice to the touch :) Let me give you a cool pose\")\n",
    "# stitch.change_pose()\n",
    "\n",
    "shrek_figurine = FunkoShrek(\"Shrek\")\n",
    "\n",
    "shrek_figurine.change_pose()\n",
    "shrek_figurine.ask_swamp()\n",
    "\n",
    "harry_figurine=FunkoHarry(\"Harry\")\n",
    "\n",
    "harry_figurine.harry_proof()\n",
    "harry = PlayableHarry(\"Harry\")\n",
    "harry.speak(\"Pisspectrum popatronum!!!!!!!!!!!!!!!!!!\")"
   ]
  },
  {
   "cell_type": "code",
   "execution_count": null,
   "metadata": {},
   "outputs": [],
   "source": []
  }
 ],
 "metadata": {
  "kernelspec": {
   "display_name": "Python 3",
   "language": "python",
   "name": "python3"
  },
  "language_info": {
   "codemirror_mode": {
    "name": "ipython",
    "version": 3
   },
   "file_extension": ".py",
   "mimetype": "text/x-python",
   "name": "python",
   "nbconvert_exporter": "python",
   "pygments_lexer": "ipython3",
   "version": "3.10.12"
  },
  "orig_nbformat": 4
 },
 "nbformat": 4,
 "nbformat_minor": 2
}
