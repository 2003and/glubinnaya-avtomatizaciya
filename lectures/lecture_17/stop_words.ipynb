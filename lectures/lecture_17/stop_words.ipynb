{
 "cells": [
  {
   "cell_type": "code",
   "execution_count": 25,
   "metadata": {},
   "outputs": [
    {
     "name": "stdout",
     "output_type": "stream",
     "text": [
      "Note: you may need to restart the kernel to use updated packages.\n"
     ]
    }
   ],
   "source": [
    "%pip install -q nltk\n",
    "from nltk import word_tokenize\n",
    "from nltk.corpus import stopwords\n",
    "from nltk import SnowballStemmer"
   ]
  },
  {
   "cell_type": "code",
   "execution_count": 18,
   "metadata": {},
   "outputs": [],
   "source": [
    "def get_book(name):\n",
    "    with open(name, \"r\") as raw:\n",
    "        text = \"\"\n",
    "        for t in raw.readlines():\n",
    "            text += t+\"\\n\"\n",
    "        return text"
   ]
  },
  {
   "cell_type": "code",
   "execution_count": 19,
   "metadata": {},
   "outputs": [],
   "source": [
    "text = get_book(\"../../book_analysis/Собачье сердце (1925)\")\n",
    "tokens = word_tokenize(text)"
   ]
  },
  {
   "cell_type": "code",
   "execution_count": 20,
   "metadata": {},
   "outputs": [],
   "source": [
    "stopwords = stopwords.words(\"russian\")\n",
    "tokens_filt = [token for token in tokens if token not in stopwords]"
   ]
  },
  {
   "cell_type": "code",
   "execution_count": 32,
   "metadata": {},
   "outputs": [
    {
     "name": "stdout",
     "output_type": "stream",
     "text": [
      "tokenized:32462\n",
      "filtered:25623\n",
      "- - -\n",
      "difference:6839\n",
      "percentage deflation:0.21067709937773393\n"
     ]
    }
   ],
   "source": [
    "char_count = sum(map(len, tokens))\n",
    "char_count_filt = sum(map(len, tokens_filt))\n",
    "print(f\"tokenized:{char_count}\")\n",
    "print(f\"filtered:{char_count_filt}\")\n",
    "print(\"- - -\")\n",
    "print(f\"difference:{char_count - char_count_filt}\")\n",
    "print(f\"percentage deflation:{1-char_count_filt/char_count}\")\n"
   ]
  },
  {
   "cell_type": "code",
   "execution_count": 27,
   "metadata": {},
   "outputs": [
    {
     "data": {
      "text/plain": [
       "23679"
      ]
     },
     "execution_count": 27,
     "metadata": {},
     "output_type": "execute_result"
    }
   ],
   "source": [
    "lemmatizer = SnowballStemmer(\"russian\")\n",
    "tokens_filt_stem = []\n",
    "for token in tokens_filt:\n",
    "    token_stem = lemmatizer.stem(token)\n",
    "    tokens_filt_stem.append(token_stem)\n",
    "\n"
   ]
  },
  {
   "cell_type": "code",
   "execution_count": 31,
   "metadata": {},
   "outputs": [
    {
     "name": "stdout",
     "output_type": "stream",
     "text": [
      "140387\n",
      "101149\n",
      "diff:39238\n"
     ]
    }
   ],
   "source": [
    "char_count_filt_stem = sum(map(len, tokens_filt_stem))\n",
    "\n",
    "print(char_count)\n",
    "print(char_count_filt_stem)\n",
    "print(f\"diff:{char_count-char_count_filt_stem}\")"
   ]
  },
  {
   "cell_type": "code",
   "execution_count": null,
   "metadata": {},
   "outputs": [],
   "source": []
  }
 ],
 "metadata": {
  "kernelspec": {
   "display_name": "Python 3",
   "language": "python",
   "name": "python3"
  },
  "language_info": {
   "codemirror_mode": {
    "name": "ipython",
    "version": 3
   },
   "file_extension": ".py",
   "mimetype": "text/x-python",
   "name": "python",
   "nbconvert_exporter": "python",
   "pygments_lexer": "ipython3",
   "version": "3.10.12"
  },
  "orig_nbformat": 4
 },
 "nbformat": 4,
 "nbformat_minor": 2
}
