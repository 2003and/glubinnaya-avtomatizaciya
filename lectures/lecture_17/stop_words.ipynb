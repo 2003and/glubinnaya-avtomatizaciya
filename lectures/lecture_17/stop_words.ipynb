{
 "cells": [
  {
   "cell_type": "code",
   "execution_count": 1,
   "metadata": {},
   "outputs": [
    {
     "name": "stdout",
     "output_type": "stream",
     "text": [
      "Note: you may need to restart the kernel to use updated packages.\n"
     ]
    }
   ],
   "source": [
    "%pip install -q nltk\n",
    "from nltk import word_tokenize\n",
    "from nltk.corpus import stopwords\n",
    "from nltk import SnowballStemmer"
   ]
  },
  {
   "cell_type": "code",
   "execution_count": 2,
   "metadata": {},
   "outputs": [],
   "source": [
    "def get_book(name):\n",
    "    with open(name, \"r\") as raw:\n",
    "        text = \"\"\n",
    "        for t in raw.readlines():\n",
    "            text += t+\"\\n\"\n",
    "        return text"
   ]
  },
  {
   "cell_type": "code",
   "execution_count": 3,
   "metadata": {},
   "outputs": [],
   "source": [
    "text = get_book(\"../../book_analysis/Собачье сердце (1925)\")\n",
    "tokens = word_tokenize(text)"
   ]
  },
  {
   "cell_type": "code",
   "execution_count": 4,
   "metadata": {},
   "outputs": [],
   "source": [
    "stopwords = stopwords.words(\"russian\")\n",
    "tokens_filt = [token for token in tokens if token not in stopwords]"
   ]
  },
  {
   "cell_type": "code",
   "execution_count": 5,
   "metadata": {},
   "outputs": [
    {
     "name": "stdout",
     "output_type": "stream",
     "text": [
      "tokenized:140387\n",
      "filtered:124828\n",
      "- - -\n",
      "difference:15559\n",
      "percentage deflation:0.11082935029596752\n"
     ]
    }
   ],
   "source": [
    "char_count = sum(map(len, tokens))\n",
    "char_count_filt = sum(map(len, tokens_filt))\n",
    "print(f\"tokenized:{char_count}\")\n",
    "print(f\"filtered:{char_count_filt}\")\n",
    "print(\"- - -\")\n",
    "print(f\"difference:{char_count - char_count_filt}\")\n",
    "print(f\"percentage deflation:{1-char_count_filt/char_count}\")\n"
   ]
  },
  {
   "cell_type": "code",
   "execution_count": 8,
   "metadata": {},
   "outputs": [],
   "source": [
    "stemmer = SnowballStemmer(\"russian\")\n",
    "tokens_filt_stem = [stemmer.stem(token) for token in tokens_filt]"
   ]
  },
  {
   "cell_type": "code",
   "execution_count": 9,
   "metadata": {},
   "outputs": [
    {
     "name": "stdout",
     "output_type": "stream",
     "text": [
      "140387\n",
      "101149\n",
      "diff:39238\n"
     ]
    }
   ],
   "source": [
    "char_count_filt_stem = sum(map(len, tokens_filt_stem))\n",
    "\n",
    "print(char_count)\n",
    "print(char_count_filt_stem)\n",
    "print(f\"diff:{char_count-char_count_filt_stem}\")"
   ]
  },
  {
   "cell_type": "code",
   "execution_count": null,
   "metadata": {},
   "outputs": [],
   "source": []
  }
 ],
 "metadata": {
  "kernelspec": {
   "display_name": "Python 3",
   "language": "python",
   "name": "python3"
  },
  "language_info": {
   "codemirror_mode": {
    "name": "ipython",
    "version": 3
   },
   "file_extension": ".py",
   "mimetype": "text/x-python",
   "name": "python",
   "nbconvert_exporter": "python",
   "pygments_lexer": "ipython3",
   "version": "3.10.12"
  },
  "orig_nbformat": 4
 },
 "nbformat": 4,
 "nbformat_minor": 2
}
