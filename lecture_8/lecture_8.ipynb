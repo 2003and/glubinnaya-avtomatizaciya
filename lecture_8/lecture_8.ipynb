{
 "cells": [
  {
   "cell_type": "code",
   "execution_count": 19,
   "metadata": {},
   "outputs": [],
   "source": [
    "class MosquitoesCloud:\n",
    "    def __init__(self,damage_per_mosquito: float = 1.7, mosquitoes_in_cloud:int=5) -> None:\n",
    "        if damage_per_mosquito is not None:\n",
    "            self.damage_per_mosquito = damage_per_mosquito\n",
    "        if mosquitoes_in_cloud is not None:\n",
    "            self.mosquitoes_in_cloud = mosquitoes_in_cloud\n",
    "        self.damage = self.damage_per_mosquito*self.mosquitoes_in_cloud\n",
    "    \n",
    "    def __add__(self, other):\n",
    "        return MosquitoesCloud((self.damage_per_mosquito+other.damage_per_mosquito)/2,\n",
    "                               self.mosquitoes_in_cloud+other.mosquitoes_in_cloud)"
   ]
  },
  {
   "cell_type": "code",
   "execution_count": 20,
   "metadata": {},
   "outputs": [],
   "source": [
    "mcloud1 = MosquitoesCloud()\n",
    "mcloud2 = MosquitoesCloud(mosquitoes_in_cloud=10)"
   ]
  },
  {
   "cell_type": "code",
   "execution_count": 24,
   "metadata": {},
   "outputs": [
    {
     "name": "stdout",
     "output_type": "stream",
     "text": [
      "8.5\n",
      "17.0\n"
     ]
    }
   ],
   "source": [
    "print(mcloud1.damage)\n",
    "print(mcloud2.damage)"
   ]
  },
  {
   "cell_type": "code",
   "execution_count": 23,
   "metadata": {},
   "outputs": [
    {
     "name": "stdout",
     "output_type": "stream",
     "text": [
      "25.5\n"
     ]
    }
   ],
   "source": [
    "mcloud3 = mcloud2+mcloud1\n",
    "print(mcloud3.damage)"
   ]
  },
  {
   "cell_type": "code",
   "execution_count": null,
   "metadata": {},
   "outputs": [],
   "source": []
  }
 ],
 "metadata": {
  "kernelspec": {
   "display_name": "Python 3",
   "language": "python",
   "name": "python3"
  },
  "language_info": {
   "codemirror_mode": {
    "name": "ipython",
    "version": 3
   },
   "file_extension": ".py",
   "mimetype": "text/x-python",
   "name": "python",
   "nbconvert_exporter": "python",
   "pygments_lexer": "ipython3",
   "version": "3.10.12"
  },
  "orig_nbformat": 4
 },
 "nbformat": 4,
 "nbformat_minor": 2
}
